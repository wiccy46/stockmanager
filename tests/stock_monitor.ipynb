{
 "cells": [
  {
   "cell_type": "code",
   "execution_count": 1,
   "metadata": {},
   "outputs": [],
   "source": [
    "from stockmanager import StockBase\n",
    "import pandas as pd\n",
    "import numpy as np\n",
    "from glob import glob\n",
    "from os import mkdir \n",
    "import logging\n",
    "_LOGGER = logging.getLogger(__name__)\n",
    "_LOGGER.addHandler(logging.NullHandler())"
   ]
  },
  {
   "cell_type": "code",
   "execution_count": null,
   "metadata": {},
   "outputs": [],
   "source": []
  },
  {
   "cell_type": "code",
   "execution_count": 2,
   "metadata": {},
   "outputs": [],
   "source": [
    "# Load stock\n",
    "netdragon = StockBase(ticker='0777.HK')\n",
    "ms = StockBase(ticker='MSFT')"
   ]
  },
  {
   "cell_type": "code",
   "execution_count": 4,
   "metadata": {},
   "outputs": [],
   "source": [
    "nd_5y = netdragon.get_stock_info(start=\"2013-01-01\", end=\"2020-03-19\")"
   ]
  },
  {
   "cell_type": "code",
   "execution_count": 5,
   "metadata": {},
   "outputs": [],
   "source": [
    "nd_5y.to_csv(\"Netdragon5year.csv\")"
   ]
  },
  {
   "cell_type": "code",
   "execution_count": 135,
   "metadata": {},
   "outputs": [],
   "source": [
    "class Trade_Manager(object):\n",
    "    def __init__(self, data_folder=None):\n",
    "        self.info = {}\n",
    "        self.record = {}\n",
    "        self.path = './' if not data_folder else self._set_data_folder(data_folder)\n",
    "        self._varify_folder()\n",
    "        self.record_keys = ['Ticker', 'Name', 'Previous Holding', 'Date', 'Type', \n",
    "                            'Amount', 'Price', 'Currency']\n",
    "       \n",
    "    def get_info(self, ticker, start, end):\n",
    "        # Currently only work with one ticker. \n",
    "        self.stock = StockBase(ticker=ticker)\n",
    "        self.stock_info = self.stock.get_stock_info(start=start, end=end)\n",
    "        self.info.update({ticker:self.stock_info})\n",
    "    \n",
    "    def input_guide(self):\n",
    "        # Step by step inpout prompt to enter data. \n",
    "        pass\n",
    "    \n",
    "    \n",
    "    \n",
    "    def _varify_folder(self):\n",
    "        \"\"\"check if data folder exist if not create one.\"\"\"\n",
    "        fn = [n.replace(self.path, '') for n in glob(self.path+ '*/')]\n",
    "        if 'data/' in fn:\n",
    "            self.sub_path = self.path + 'data/'\n",
    "            self.stock_info_path = self.sub_path + 'stock_info/'\n",
    "            self.stock_record_path = self.sub_path + 'stock_record/'\n",
    "            # Remove the relative path in the string.\n",
    "            sub_fn = [n.replace(sub_path, '') for n in glob(sub_path + '*/')]\n",
    "            if 'stock_info/' not in sub_fn:\n",
    "                _LOGGER.info(\"stock_info folder not found.\")\n",
    "                try:\n",
    "                    mkdir(sub_path + 'stock_info/')\n",
    "                except OSError:\n",
    "                    raise OSError(\"Failed to create directory, check if path valid\")\n",
    "\n",
    "            if 'stock_record/' not in sub_fn:\n",
    "                _LOGGER.info(\"stock_record folder not found.\")\n",
    "                try:\n",
    "                    mkdir(sub_path + 'stock_record/')\n",
    "                except OSError:\n",
    "                    raise OSError(\"Failed to create directory, check if path valid\")\n",
    "        else:\n",
    "            try:\n",
    "                mkdir(path + 'data/')\n",
    "                mkdir(path + 'data/stock_info/')\n",
    "                mkdir(path + 'data/stock_record/')\n",
    "            except OSError:\n",
    "                raise OSError(\"Failed to create directory, check if path valid. \")\n",
    "\n",
    "    def _set_data_folder(self, path):\n",
    "        \"\"\"Set the path Trade_Manager should look for \n",
    "        loading and storing stock info and trade record\n",
    "        \n",
    "        Parameters\n",
    "        ----------\n",
    "        path : str\n",
    "            path to the data folder. If \"data\" folder not exist then create a folder. \n",
    "        \"\"\"\n",
    "        pass\n",
    "        \n",
    "                \n",
    "    def load_csv(self, path, overwrite=False):\n",
    "        \"\"\"The method look through the directory for all csv files and load them as your \n",
    "        trading recording dictionary. Each csv file is your record of a particular stock. \n",
    "        It will use the filename as the key, and the DataFrame converted from csv as values.\n",
    "        Results are updated/overwrite to self.record.\n",
    "        \n",
    "        Parameters\n",
    "        ----------\n",
    "        path : str\n",
    "            Path of the folder, it will only load the csv files. \n",
    "        \n",
    "        overwrite : bool\n",
    "            If true, overwrite self.record. Else, merge it instead\n",
    "        \n",
    "        \"\"\"\n",
    "        if not self.record:\n",
    "            self.record = pd.from_csv(path)\n",
    "        else:\n",
    "            if overwrite:\n",
    "                self.record = pd.from_csv(path)\n",
    "            else:\n",
    "                self.merge(pd.from_csv(path))\n",
    "\n",
    "\n",
    "    def save(self, ticker=None):\n",
    "        \"\"\"If you dont sepecify a ticker, save all to the dedicated data folder.\n",
    "        \"\"\"\n",
    "        for key, value in self.record.items():\n",
    "            value.to_csv(self.stock_record_path + key + \".csv\")\n",
    "                \n",
    "    def merge(self, pd):\n",
    "        \"\"\"Merge a new df to existing record. Take care of duplicate\"\"\"\n",
    "        return pd  # TODO add actual method. \n",
    "        \n",
    "    def add_new_stock(self, ticker, name, holding, date, currency):\n",
    "        pass\n",
    "        \n",
    "    \n",
    "    def add_entry(self, ticker, amount, price, typ, name=None, date='today', ):\n",
    "        \"\"\"add a buy/sell entry to the record.\n",
    "        \n",
    "        Parameters\n",
    "        ----------\n",
    "        ticker : str\n",
    "            Ticker of the stock, this can later be used to request updated market info\n",
    "        amount : int\n",
    "            The amount of stocks in transaction\n",
    "        price : float\n",
    "            Price at the transaction\n",
    "        typ : str\n",
    "            Either 'buy' or 'sell'\n",
    "        name : None or str\n",
    "            If not set, try to find the name correspond to ticker.\n",
    "        date : str\n",
    "            By default it will get today as the transaction date, or yyyy-mm-dd format string.\n",
    "        \"\"\"\n",
    "        typ = typ.lower()\n",
    "        \n",
    "        \n",
    "        \n",
    "        "
   ]
  },
  {
   "cell_type": "code",
   "execution_count": 137,
   "metadata": {},
   "outputs": [],
   "source": [
    "tm = Trade_Manager()"
   ]
  },
  {
   "cell_type": "code",
   "execution_count": 138,
   "metadata": {},
   "outputs": [],
   "source": [
    "keys = ['Ticker', 'Name', 'Previous Holding', 'Date', 'Type',\n",
    "       'Amount', 'Price', 'Currency']\n",
    "values = np.array([['0777.HK', 'NETDRAGON', '40500', '2020-02-17', 'sell',\n",
    "         '8000', '22.65', 'HKD']])\n",
    "df = pd.DataFrame(values, columns=keys)\n",
    "myrecord = {'0777HK': df}"
   ]
  },
  {
   "cell_type": "code",
   "execution_count": 139,
   "metadata": {},
   "outputs": [],
   "source": [
    "tm.record = myrecord"
   ]
  },
  {
   "cell_type": "code",
   "execution_count": 140,
   "metadata": {},
   "outputs": [
    {
     "ename": "RuntimeError",
     "evalue": "Error parsing content.",
     "output_type": "error",
     "traceback": [
      "\u001b[0;31m---------------------------------------------------------------------------\u001b[0m",
      "\u001b[0;31mTypeError\u001b[0m                                 Traceback (most recent call last)",
      "\u001b[0;32m~/Documents/Personal_Projects/stock_monitor/ystocks/base.py\u001b[0m in \u001b[0;36mget_stock_info\u001b[0;34m(self, period, interval, start, end, timezone)\u001b[0m\n\u001b[1;32m     89\u001b[0m         \u001b[0;32mtry\u001b[0m\u001b[0;34m:\u001b[0m\u001b[0;34m\u001b[0m\u001b[0;34m\u001b[0m\u001b[0m\n\u001b[0;32m---> 90\u001b[0;31m             \u001b[0mdf\u001b[0m \u001b[0;34m=\u001b[0m \u001b[0mhelpers\u001b[0m\u001b[0;34m.\u001b[0m\u001b[0mcreate_df\u001b[0m\u001b[0;34m(\u001b[0m\u001b[0mcontent\u001b[0m\u001b[0;34m[\u001b[0m\u001b[0;34m\"chart\"\u001b[0m\u001b[0;34m]\u001b[0m\u001b[0;34m[\u001b[0m\u001b[0;34m\"result\"\u001b[0m\u001b[0;34m]\u001b[0m\u001b[0;34m[\u001b[0m\u001b[0;36m0\u001b[0m\u001b[0;34m]\u001b[0m\u001b[0;34m,\u001b[0m \u001b[0mtimezone\u001b[0m\u001b[0;34m)\u001b[0m\u001b[0;34m\u001b[0m\u001b[0;34m\u001b[0m\u001b[0m\n\u001b[0m\u001b[1;32m     91\u001b[0m         \u001b[0;32mexcept\u001b[0m \u001b[0mException\u001b[0m\u001b[0;34m:\u001b[0m\u001b[0;34m\u001b[0m\u001b[0;34m\u001b[0m\u001b[0m\n",
      "\u001b[0;31mTypeError\u001b[0m: 'NoneType' object is not subscriptable",
      "\nDuring handling of the above exception, another exception occurred:\n",
      "\u001b[0;31mRuntimeError\u001b[0m                              Traceback (most recent call last)",
      "\u001b[0;32m<ipython-input-140-ec6c115f6315>\u001b[0m in \u001b[0;36m<module>\u001b[0;34m\u001b[0m\n\u001b[0;32m----> 1\u001b[0;31m \u001b[0mtm\u001b[0m\u001b[0;34m.\u001b[0m\u001b[0mget_info\u001b[0m\u001b[0;34m(\u001b[0m\u001b[0;34m'0777HK'\u001b[0m\u001b[0;34m,\u001b[0m \u001b[0mstart\u001b[0m\u001b[0;34m=\u001b[0m\u001b[0;34m\"2013-01-01\"\u001b[0m\u001b[0;34m,\u001b[0m \u001b[0mend\u001b[0m\u001b[0;34m=\u001b[0m\u001b[0;34m\"2020-02-18\"\u001b[0m\u001b[0;34m)\u001b[0m\u001b[0;34m\u001b[0m\u001b[0;34m\u001b[0m\u001b[0m\n\u001b[0m\u001b[1;32m      2\u001b[0m \u001b[0mtm\u001b[0m\u001b[0;34m.\u001b[0m\u001b[0minfo\u001b[0m\u001b[0;34m\u001b[0m\u001b[0;34m\u001b[0m\u001b[0m\n",
      "\u001b[0;32m<ipython-input-135-107717520a80>\u001b[0m in \u001b[0;36mget_info\u001b[0;34m(self, ticker, start, end)\u001b[0m\n\u001b[1;32m     11\u001b[0m         \u001b[0;31m# Currently only work with one ticker.\u001b[0m\u001b[0;34m\u001b[0m\u001b[0;34m\u001b[0m\u001b[0;34m\u001b[0m\u001b[0m\n\u001b[1;32m     12\u001b[0m         \u001b[0mself\u001b[0m\u001b[0;34m.\u001b[0m\u001b[0mstock\u001b[0m \u001b[0;34m=\u001b[0m \u001b[0mStockBase\u001b[0m\u001b[0;34m(\u001b[0m\u001b[0mticker\u001b[0m\u001b[0;34m=\u001b[0m\u001b[0mticker\u001b[0m\u001b[0;34m)\u001b[0m\u001b[0;34m\u001b[0m\u001b[0;34m\u001b[0m\u001b[0m\n\u001b[0;32m---> 13\u001b[0;31m         \u001b[0mself\u001b[0m\u001b[0;34m.\u001b[0m\u001b[0mstock_info\u001b[0m \u001b[0;34m=\u001b[0m \u001b[0mself\u001b[0m\u001b[0;34m.\u001b[0m\u001b[0mstock\u001b[0m\u001b[0;34m.\u001b[0m\u001b[0mget_stock_info\u001b[0m\u001b[0;34m(\u001b[0m\u001b[0mstart\u001b[0m\u001b[0;34m=\u001b[0m\u001b[0mstart\u001b[0m\u001b[0;34m,\u001b[0m \u001b[0mend\u001b[0m\u001b[0;34m=\u001b[0m\u001b[0mend\u001b[0m\u001b[0;34m)\u001b[0m\u001b[0;34m\u001b[0m\u001b[0;34m\u001b[0m\u001b[0m\n\u001b[0m\u001b[1;32m     14\u001b[0m         \u001b[0mself\u001b[0m\u001b[0;34m.\u001b[0m\u001b[0minfo\u001b[0m\u001b[0;34m.\u001b[0m\u001b[0mupdate\u001b[0m\u001b[0;34m(\u001b[0m\u001b[0;34m{\u001b[0m\u001b[0mticker\u001b[0m\u001b[0;34m:\u001b[0m\u001b[0mself\u001b[0m\u001b[0;34m.\u001b[0m\u001b[0mstock_info\u001b[0m\u001b[0;34m}\u001b[0m\u001b[0;34m)\u001b[0m\u001b[0;34m\u001b[0m\u001b[0;34m\u001b[0m\u001b[0m\n\u001b[1;32m     15\u001b[0m \u001b[0;34m\u001b[0m\u001b[0m\n",
      "\u001b[0;32m~/Documents/Personal_Projects/stock_monitor/ystocks/base.py\u001b[0m in \u001b[0;36mget_stock_info\u001b[0;34m(self, period, interval, start, end, timezone)\u001b[0m\n\u001b[1;32m     90\u001b[0m             \u001b[0mdf\u001b[0m \u001b[0;34m=\u001b[0m \u001b[0mhelpers\u001b[0m\u001b[0;34m.\u001b[0m\u001b[0mcreate_df\u001b[0m\u001b[0;34m(\u001b[0m\u001b[0mcontent\u001b[0m\u001b[0;34m[\u001b[0m\u001b[0;34m\"chart\"\u001b[0m\u001b[0;34m]\u001b[0m\u001b[0;34m[\u001b[0m\u001b[0;34m\"result\"\u001b[0m\u001b[0;34m]\u001b[0m\u001b[0;34m[\u001b[0m\u001b[0;36m0\u001b[0m\u001b[0;34m]\u001b[0m\u001b[0;34m,\u001b[0m \u001b[0mtimezone\u001b[0m\u001b[0;34m)\u001b[0m\u001b[0;34m\u001b[0m\u001b[0;34m\u001b[0m\u001b[0m\n\u001b[1;32m     91\u001b[0m         \u001b[0;32mexcept\u001b[0m \u001b[0mException\u001b[0m\u001b[0;34m:\u001b[0m\u001b[0;34m\u001b[0m\u001b[0;34m\u001b[0m\u001b[0m\n\u001b[0;32m---> 92\u001b[0;31m             \u001b[0;32mraise\u001b[0m \u001b[0mRuntimeError\u001b[0m\u001b[0;34m(\u001b[0m\u001b[0;34m\"Error parsing content.\"\u001b[0m\u001b[0;34m)\u001b[0m\u001b[0;34m\u001b[0m\u001b[0;34m\u001b[0m\u001b[0m\n\u001b[0m\u001b[1;32m     93\u001b[0m \u001b[0;34m\u001b[0m\u001b[0m\n\u001b[1;32m     94\u001b[0m         \u001b[0mdf\u001b[0m\u001b[0;34m.\u001b[0m\u001b[0mdropna\u001b[0m\u001b[0;34m(\u001b[0m\u001b[0minplace\u001b[0m\u001b[0;34m=\u001b[0m\u001b[0;32mTrue\u001b[0m\u001b[0;34m)\u001b[0m\u001b[0;34m\u001b[0m\u001b[0;34m\u001b[0m\u001b[0m\n",
      "\u001b[0;31mRuntimeError\u001b[0m: Error parsing content."
     ]
    }
   ],
   "source": [
    "tm.get_info('0777HK', start=\"2013-01-01\", end=\"2020-02-18\")\n",
    "tm.info"
   ]
  },
  {
   "cell_type": "code",
   "execution_count": 125,
   "metadata": {},
   "outputs": [],
   "source": [
    "tm.save()"
   ]
  },
  {
   "cell_type": "code",
   "execution_count": 126,
   "metadata": {},
   "outputs": [
    {
     "data": {
      "text/html": [
       "<div>\n",
       "<style scoped>\n",
       "    .dataframe tbody tr th:only-of-type {\n",
       "        vertical-align: middle;\n",
       "    }\n",
       "\n",
       "    .dataframe tbody tr th {\n",
       "        vertical-align: top;\n",
       "    }\n",
       "\n",
       "    .dataframe thead th {\n",
       "        text-align: right;\n",
       "    }\n",
       "</style>\n",
       "<table border=\"1\" class=\"dataframe\">\n",
       "  <thead>\n",
       "    <tr style=\"text-align: right;\">\n",
       "      <th></th>\n",
       "      <th>Ticker</th>\n",
       "      <th>Name</th>\n",
       "      <th>Previous Holding</th>\n",
       "      <th>Date</th>\n",
       "      <th>Type</th>\n",
       "      <th>Amount</th>\n",
       "      <th>Price</th>\n",
       "      <th>Currency</th>\n",
       "    </tr>\n",
       "  </thead>\n",
       "  <tbody>\n",
       "    <tr>\n",
       "      <td>0</td>\n",
       "      <td>0777.HK</td>\n",
       "      <td>NETDRAGON</td>\n",
       "      <td>40500</td>\n",
       "      <td>2020-02-17</td>\n",
       "      <td>sell</td>\n",
       "      <td>8000</td>\n",
       "      <td>22.65</td>\n",
       "      <td>HKD</td>\n",
       "    </tr>\n",
       "  </tbody>\n",
       "</table>\n",
       "</div>"
      ],
      "text/plain": [
       "    Ticker       Name Previous Holding        Date  Type Amount  Price Currency\n",
       "0  0777.HK  NETDRAGON            40500  2020-02-17  sell   8000  22.65      HKD"
      ]
     },
     "execution_count": 126,
     "metadata": {},
     "output_type": "execute_result"
    }
   ],
   "source": [
    "myrecord['0777HK']"
   ]
  },
  {
   "cell_type": "code",
   "execution_count": null,
   "metadata": {},
   "outputs": [],
   "source": []
  }
 ],
 "metadata": {
  "kernelspec": {
   "display_name": "Python 3",
   "language": "python",
   "name": "python3"
  },
  "language_info": {
   "codemirror_mode": {
    "name": "ipython",
    "version": 3
   },
   "file_extension": ".py",
   "mimetype": "text/x-python",
   "name": "python",
   "nbconvert_exporter": "python",
   "pygments_lexer": "ipython3",
   "version": "3.7.6"
  }
 },
 "nbformat": 4,
 "nbformat_minor": 2
}
