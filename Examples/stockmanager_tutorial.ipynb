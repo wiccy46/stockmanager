{
 "cells": [
  {
   "cell_type": "code",
   "execution_count": null,
   "metadata": {},
   "outputs": [],
   "source": [
    "from stockmanager import Ticker, Portfolio, plot_price\n"
   ]
  },
  {
   "cell_type": "code",
   "execution_count": null,
   "metadata": {},
   "outputs": [],
   "source": [
    "# For debugging:\n",
    "import matplotlib.pyplot as plt\n",
    "import numpy as np\n",
    "import mplfinance as mpf"
   ]
  },
  {
   "cell_type": "code",
   "execution_count": null,
   "metadata": {},
   "outputs": [],
   "source": [
    "msft = Ticker('MSFT')"
   ]
  },
  {
   "cell_type": "code",
   "execution_count": null,
   "metadata": {},
   "outputs": [],
   "source": [
    "price = msft.get_price(period='1mo', interval='1d')"
   ]
  },
  {
   "cell_type": "code",
   "execution_count": null,
   "metadata": {},
   "outputs": [],
   "source": [
    "plot_price(price, backend='matplotlib', mav=[2,5], title=msft.name, type='ohlc')\n"
   ]
  },
  {
   "cell_type": "code",
   "execution_count": null,
   "metadata": {},
   "outputs": [],
   "source": [
    "fig.update_layout(title={'text': msft.name,\n",
    "                         'xanchor': 'auto'},\n",
    "                  yaxis_title='Price', xaxis=dict(tickangle=-90))\n",
    "fig.show()"
   ]
  },
  {
   "cell_type": "code",
   "execution_count": null,
   "metadata": {},
   "outputs": [],
   "source": [
    "plot_price(price, type='line')"
   ]
  },
  {
   "cell_type": "code",
   "execution_count": null,
   "metadata": {},
   "outputs": [],
   "source": [
    "plot(price, type='candle', mav=5)"
   ]
  },
  {
   "cell_type": "code",
   "execution_count": null,
   "metadata": {},
   "outputs": [],
   "source": [
    "plot(price, type='line')"
   ]
  },
  {
   "cell_type": "code",
   "execution_count": null,
   "metadata": {},
   "outputs": [],
   "source": [
    "import chart_studio.plotly as py\n",
    "import plotly.figure_factory as ff\n",
    "import pandas as pd\n"
   ]
  },
  {
   "cell_type": "code",
   "execution_count": null,
   "metadata": {},
   "outputs": [],
   "source": [
    "price"
   ]
  },
  {
   "cell_type": "code",
   "execution_count": null,
   "metadata": {},
   "outputs": [],
   "source": [
    "import chart_studio.plotly as py\n",
    "import plotly.graph_objects as go\n",
    "\n",
    "data = [go.Bar(x=price.Close,\n",
    "            y=price.index)]\n",
    "\n",
    "# py.offline.iplot(data, filename='jupyter-basic_bar')"
   ]
  },
  {
   "cell_type": "code",
   "execution_count": null,
   "metadata": {},
   "outputs": [],
   "source": [
    "import plotly\n",
    "print(plotly.__version__)"
   ]
  },
  {
   "cell_type": "code",
   "execution_count": null,
   "metadata": {},
   "outputs": [],
   "source": [
    "import plotly.express as px\n",
    "\n",
    "def plotly():\n",
    "\n",
    "    fig = px.line(price, x=price.index, y=\"Close\", title='Price')\n",
    "    fig.show()\n",
    "\n",
    "plotly()"
   ]
  },
  {
   "cell_type": "code",
   "execution_count": null,
   "metadata": {},
   "outputs": [],
   "source": [
    "plot(price, type='line')"
   ]
  },
  {
   "cell_type": "code",
   "execution_count": null,
   "metadata": {},
   "outputs": [],
   "source": [
    "import plotly.graph_objects as go\n",
    "\n",
    "\n",
    "def price_plot_with_plotly(price):\n",
    "    \"\"\"Use plotly to plot the stock data\n",
    "    \n",
    "    Parameters\n",
    "    ----------\n",
    "    price : pd.DataFrame\n",
    "        price data frame\n",
    "    \"\"\"\n",
    "    show_hours = True\n",
    "\n",
    "    if show_hours:\n",
    "        pstr = [p.strftime(\"%y-%m-%d (%H:%M:%S)\") for p in price.index.to_list()]\n",
    "    else:\n",
    "        pstr = [p.strftime(\"%y-%m-%d\") for p in price.index.to_list()]\n",
    "\n",
    "    fig = go.Figure()\n",
    "    fig.add_trace(go.Scatter(x=pstr, y=price.Close, \n",
    "                            line=dict(color='royalblue')))\n",
    "    fig.update_layout(title='Stock Price Chart',\n",
    "                      yaxis_title='Price', \n",
    "                      xaxis = dict(tickangle=-90)) \n",
    "    fig.show()\n",
    "\n",
    "\n",
    "price_plot_with_plotly(price)"
   ]
  },
  {
   "cell_type": "code",
   "execution_count": null,
   "metadata": {},
   "outputs": [],
   "source": [
    "def price_plot_with_plotly(price):\n",
    "    \"\"\"Use plotly to plot the stock data\n",
    "    \n",
    "    Parameters\n",
    "    ----------\n",
    "    price : pd.DataFrame\n",
    "        price data frame\n",
    "    \"\"\"\n",
    "    show_hours = True\n",
    "    \n",
    "    has_ohlc, ohlc = get_ohlc(price)\n",
    "\n",
    "    if show_hours:\n",
    "        pstr = [p.strftime(\"%y-%m-%d (%H:%M:%S)\") for p in price.index.to_list()]\n",
    "    else:\n",
    "        pstr = [p.strftime(\"%y-%m-%d\") for p in price.index.to_list()]\n",
    "\n",
    "    fig = go.Figure()\n",
    "    \n",
    "    fig.add_trace(go.Candlestick(x=pstr, \n",
    "                                 open=ohlc[0],\n",
    "                                 high=ohlc[1],\n",
    "                                 low=ohlc[2],\n",
    "                                 close=ohlc[3]))\n",
    "    fig.update_layout(title='Stock Price Chart',\n",
    "                      yaxis_title='Price', \n",
    "                      xaxis = dict(tickangle=-90)) \n",
    "    fig.show()\n",
    "\n",
    "\n",
    "price_plot_with_plotly(price)"
   ]
  },
  {
   "cell_type": "code",
   "execution_count": null,
   "metadata": {},
   "outputs": [],
   "source": []
  }
 ],
 "metadata": {
  "kernelspec": {
   "display_name": "stockmanager",
   "language": "python",
   "name": "build_central"
  },
  "language_info": {
   "codemirror_mode": {
    "name": "ipython",
    "version": 3
   },
   "file_extension": ".py",
   "mimetype": "text/x-python",
   "name": "python",
   "nbconvert_exporter": "python",
   "pygments_lexer": "ipython3",
   "version": "3.7.6"
  }
 },
 "nbformat": 4,
 "nbformat_minor": 4
}
